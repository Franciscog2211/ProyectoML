{
 "cells": [
  {
   "cell_type": "code",
   "execution_count": 2,
   "metadata": {},
   "outputs": [],
   "source": [
    "import numpy as np\n",
    "import pandas as pd\n",
    "import seaborn as sns\n",
    "import matplotlib\n",
    "#matplotlib.use('Agg')   # Use Agg backend to save figures\n",
    "import matplotlib.pyplot as plt"
   ]
  },
  {
   "cell_type": "code",
   "execution_count": 3,
   "metadata": {},
   "outputs": [],
   "source": [
    "COLUMN_NAMES = [\n",
    "    'user',\n",
    "    'activity',\n",
    "    'timestamp',\n",
    "    'x-axis',\n",
    "    'y-axis',\n",
    "    'z-axis'\n",
    "]\n",
    "\n",
    "LABELS = [\n",
    "    'Downstairs',\n",
    "    'Jogging',\n",
    "    'Sitting',\n",
    "    'Standing',\n",
    "    'Upstairs',\n",
    "    'Walking'\n",
    "]\n",
    "\n",
    "DATA_PATH = 'data/WISDM_ar_v1.1_raw.txt'"
   ]
  },
  {
   "cell_type": "code",
   "execution_count": 4,
   "metadata": {},
   "outputs": [],
   "source": [
    "data = pd.read_csv(DATA_PATH, header=None, names=COLUMN_NAMES)"
   ]
  },
  {
   "cell_type": "code",
   "execution_count": 6,
   "metadata": {},
   "outputs": [
    {
     "name": "stdout",
     "output_type": "stream",
     "text": [
      "<class 'pandas.core.frame.DataFrame'>\n",
      "RangeIndex: 1098204 entries, 0 to 1098203\n",
      "Data columns (total 6 columns):\n",
      " #   Column     Non-Null Count    Dtype  \n",
      "---  ------     --------------    -----  \n",
      " 0   user       1098204 non-null  int64  \n",
      " 1   activity   1098204 non-null  object \n",
      " 2   timestamp  1098204 non-null  int64  \n",
      " 3   x-axis     1098204 non-null  float64\n",
      " 4   y-axis     1098204 non-null  float64\n",
      " 5   z-axis     1098203 non-null  object \n",
      "dtypes: float64(2), int64(2), object(2)\n",
      "memory usage: 50.3+ MB\n"
     ]
    }
   ],
   "source": [
    "data.info()"
   ]
  }
 ],
 "metadata": {
  "kernelspec": {
   "display_name": "Python 3",
   "language": "python",
   "name": "python3"
  },
  "language_info": {
   "codemirror_mode": {
    "name": "ipython",
    "version": 3
   },
   "file_extension": ".py",
   "mimetype": "text/x-python",
   "name": "python",
   "nbconvert_exporter": "python",
   "pygments_lexer": "ipython3",
   "version": "3.8.5"
  }
 },
 "nbformat": 4,
 "nbformat_minor": 4
}
